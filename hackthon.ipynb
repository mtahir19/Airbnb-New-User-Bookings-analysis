{
 "cells": [
  {
   "cell_type": "markdown",
   "metadata": {},
   "source": [
    "# Project 4:  Airbnb New User Bookings: Classification Analysis"
   ]
  },
  {
   "cell_type": "markdown",
   "metadata": {},
   "source": [
    "### Muhammad Tahir @ Data Science Immersive at General Assembly"
   ]
  },
  {
   "cell_type": "code",
   "execution_count": null,
   "metadata": {},
   "outputs": [],
   "source": []
  },
  {
   "cell_type": "markdown",
   "metadata": {},
   "source": [
    "Welcome to Notebook in this Project 4 collection. In this notebook we’ll clean and explore the data in order to make intelligent choices in our feature selection process. The core of our work here is centered around the selected **problem statement:** Can we predict if someone is staying in the US or going abroad on thier AirBnB vacation?"
   ]
  },
  {
   "cell_type": "markdown",
   "metadata": {},
   "source": [
    "## Par-1:  Imports and Data Extraction"
   ]
  },
  {
   "cell_type": "markdown",
   "metadata": {},
   "source": [
    "## Imports"
   ]
  },
  {
   "cell_type": "code",
   "execution_count": 1,
   "metadata": {},
   "outputs": [],
   "source": [
    "# Required Imports \n",
    "import pandas as pd\n",
    "import numpy as np\n",
    "import seaborn as sns\n",
    "import matplotlib.pyplot as plt\n",
    "\n",
    "import scipy.stats as stats\n",
    "\n",
    "from sklearn.model_selection import train_test_split, cross_val_score, GridSearchCV, cross_val_predict\n",
    "\n",
    "from sklearn.linear_model import LogisticRegression\n",
    "\n",
    "from sklearn.metrics import recall_score, precision_score\n",
    "\n",
    "from sklearn.neighbors import KNeighborsClassifier\n",
    "\n",
    "from sklearn.preprocessing import StandardScaler\n",
    "from sklearn.metrics import confusion_matrix"
   ]
  },
  {
   "cell_type": "markdown",
   "metadata": {},
   "source": [
    "## Data Extraction"
   ]
  },
  {
   "cell_type": "code",
   "execution_count": 2,
   "metadata": {},
   "outputs": [],
   "source": [
    "# Reading data\n",
    "df1 = pd.read_csv('train_users_my.csv')\n",
    "\n",
    "df2 = pd.read_csv('countries.csv')"
   ]
  },
  {
   "cell_type": "code",
   "execution_count": 3,
   "metadata": {},
   "outputs": [],
   "source": [
    "#merge above two data frames\n",
    "df_m = pd.merge(left = df1,right = df2, on='country_destination')"
   ]
  },
  {
   "cell_type": "code",
   "execution_count": 4,
   "metadata": {},
   "outputs": [
    {
     "data": {
      "text/html": [
       "<div>\n",
       "<style scoped>\n",
       "    .dataframe tbody tr th:only-of-type {\n",
       "        vertical-align: middle;\n",
       "    }\n",
       "\n",
       "    .dataframe tbody tr th {\n",
       "        vertical-align: top;\n",
       "    }\n",
       "\n",
       "    .dataframe thead th {\n",
       "        text-align: right;\n",
       "    }\n",
       "</style>\n",
       "<table border=\"1\" class=\"dataframe\">\n",
       "  <thead>\n",
       "    <tr style=\"text-align: right;\">\n",
       "      <th></th>\n",
       "      <th>id</th>\n",
       "      <th>date_account_created</th>\n",
       "      <th>timestamp_first_active</th>\n",
       "      <th>date_first_booking</th>\n",
       "      <th>gender</th>\n",
       "      <th>age</th>\n",
       "      <th>signup_method</th>\n",
       "      <th>signup_flow</th>\n",
       "      <th>language</th>\n",
       "      <th>affiliate_channel</th>\n",
       "      <th>...</th>\n",
       "      <th>signup_app</th>\n",
       "      <th>first_device_type</th>\n",
       "      <th>first_browser</th>\n",
       "      <th>country_destination</th>\n",
       "      <th>lat_destination</th>\n",
       "      <th>lng_destination</th>\n",
       "      <th>distance_km</th>\n",
       "      <th>destination_km2</th>\n",
       "      <th>destination_language</th>\n",
       "      <th>language_levenshtein_distance</th>\n",
       "    </tr>\n",
       "  </thead>\n",
       "  <tbody>\n",
       "    <tr>\n",
       "      <th>0</th>\n",
       "      <td>4ft3gnwmtx</td>\n",
       "      <td>2010-09-28</td>\n",
       "      <td>20090609231247</td>\n",
       "      <td>2010-08-02</td>\n",
       "      <td>FEMALE</td>\n",
       "      <td>56.0</td>\n",
       "      <td>basic</td>\n",
       "      <td>3</td>\n",
       "      <td>en</td>\n",
       "      <td>direct</td>\n",
       "      <td>...</td>\n",
       "      <td>Web</td>\n",
       "      <td>Windows Desktop</td>\n",
       "      <td>IE</td>\n",
       "      <td>US</td>\n",
       "      <td>36.966427</td>\n",
       "      <td>-95.84403</td>\n",
       "      <td>0.0</td>\n",
       "      <td>9826675.0</td>\n",
       "      <td>eng</td>\n",
       "      <td>0.0</td>\n",
       "    </tr>\n",
       "    <tr>\n",
       "      <th>1</th>\n",
       "      <td>87mebub9p4</td>\n",
       "      <td>2010-09-14</td>\n",
       "      <td>20091208061105</td>\n",
       "      <td>2010-02-18</td>\n",
       "      <td>-unknown-</td>\n",
       "      <td>41.0</td>\n",
       "      <td>basic</td>\n",
       "      <td>0</td>\n",
       "      <td>en</td>\n",
       "      <td>direct</td>\n",
       "      <td>...</td>\n",
       "      <td>Web</td>\n",
       "      <td>Mac Desktop</td>\n",
       "      <td>Chrome</td>\n",
       "      <td>US</td>\n",
       "      <td>36.966427</td>\n",
       "      <td>-95.84403</td>\n",
       "      <td>0.0</td>\n",
       "      <td>9826675.0</td>\n",
       "      <td>eng</td>\n",
       "      <td>0.0</td>\n",
       "    </tr>\n",
       "    <tr>\n",
       "      <th>2</th>\n",
       "      <td>osr2jwljor</td>\n",
       "      <td>2010-01-01</td>\n",
       "      <td>20100101215619</td>\n",
       "      <td>2010-01-02</td>\n",
       "      <td>-unknown-</td>\n",
       "      <td>NaN</td>\n",
       "      <td>basic</td>\n",
       "      <td>0</td>\n",
       "      <td>en</td>\n",
       "      <td>other</td>\n",
       "      <td>...</td>\n",
       "      <td>Web</td>\n",
       "      <td>Mac Desktop</td>\n",
       "      <td>Chrome</td>\n",
       "      <td>US</td>\n",
       "      <td>36.966427</td>\n",
       "      <td>-95.84403</td>\n",
       "      <td>0.0</td>\n",
       "      <td>9826675.0</td>\n",
       "      <td>eng</td>\n",
       "      <td>0.0</td>\n",
       "    </tr>\n",
       "    <tr>\n",
       "      <th>3</th>\n",
       "      <td>lsw9q7uk0j</td>\n",
       "      <td>2010-01-02</td>\n",
       "      <td>20100102012558</td>\n",
       "      <td>2010-01-05</td>\n",
       "      <td>FEMALE</td>\n",
       "      <td>46.0</td>\n",
       "      <td>basic</td>\n",
       "      <td>0</td>\n",
       "      <td>en</td>\n",
       "      <td>other</td>\n",
       "      <td>...</td>\n",
       "      <td>Web</td>\n",
       "      <td>Mac Desktop</td>\n",
       "      <td>Safari</td>\n",
       "      <td>US</td>\n",
       "      <td>36.966427</td>\n",
       "      <td>-95.84403</td>\n",
       "      <td>0.0</td>\n",
       "      <td>9826675.0</td>\n",
       "      <td>eng</td>\n",
       "      <td>0.0</td>\n",
       "    </tr>\n",
       "    <tr>\n",
       "      <th>4</th>\n",
       "      <td>0d01nltbrs</td>\n",
       "      <td>2010-01-03</td>\n",
       "      <td>20100103191905</td>\n",
       "      <td>2010-01-13</td>\n",
       "      <td>FEMALE</td>\n",
       "      <td>47.0</td>\n",
       "      <td>basic</td>\n",
       "      <td>0</td>\n",
       "      <td>en</td>\n",
       "      <td>direct</td>\n",
       "      <td>...</td>\n",
       "      <td>Web</td>\n",
       "      <td>Mac Desktop</td>\n",
       "      <td>Safari</td>\n",
       "      <td>US</td>\n",
       "      <td>36.966427</td>\n",
       "      <td>-95.84403</td>\n",
       "      <td>0.0</td>\n",
       "      <td>9826675.0</td>\n",
       "      <td>eng</td>\n",
       "      <td>0.0</td>\n",
       "    </tr>\n",
       "  </tbody>\n",
       "</table>\n",
       "<p>5 rows × 22 columns</p>\n",
       "</div>"
      ],
      "text/plain": [
       "           id date_account_created  timestamp_first_active date_first_booking  \\\n",
       "0  4ft3gnwmtx           2010-09-28          20090609231247         2010-08-02   \n",
       "1  87mebub9p4           2010-09-14          20091208061105         2010-02-18   \n",
       "2  osr2jwljor           2010-01-01          20100101215619         2010-01-02   \n",
       "3  lsw9q7uk0j           2010-01-02          20100102012558         2010-01-05   \n",
       "4  0d01nltbrs           2010-01-03          20100103191905         2010-01-13   \n",
       "\n",
       "      gender   age signup_method  signup_flow language affiliate_channel  ...  \\\n",
       "0     FEMALE  56.0         basic            3       en            direct  ...   \n",
       "1  -unknown-  41.0         basic            0       en            direct  ...   \n",
       "2  -unknown-   NaN         basic            0       en             other  ...   \n",
       "3     FEMALE  46.0         basic            0       en             other  ...   \n",
       "4     FEMALE  47.0         basic            0       en            direct  ...   \n",
       "\n",
       "  signup_app first_device_type first_browser country_destination  \\\n",
       "0        Web   Windows Desktop            IE                  US   \n",
       "1        Web       Mac Desktop        Chrome                  US   \n",
       "2        Web       Mac Desktop        Chrome                  US   \n",
       "3        Web       Mac Desktop        Safari                  US   \n",
       "4        Web       Mac Desktop        Safari                  US   \n",
       "\n",
       "  lat_destination lng_destination  distance_km  destination_km2  \\\n",
       "0       36.966427       -95.84403          0.0        9826675.0   \n",
       "1       36.966427       -95.84403          0.0        9826675.0   \n",
       "2       36.966427       -95.84403          0.0        9826675.0   \n",
       "3       36.966427       -95.84403          0.0        9826675.0   \n",
       "4       36.966427       -95.84403          0.0        9826675.0   \n",
       "\n",
       "   destination_language   language_levenshtein_distance  \n",
       "0                    eng                            0.0  \n",
       "1                    eng                            0.0  \n",
       "2                    eng                            0.0  \n",
       "3                    eng                            0.0  \n",
       "4                    eng                            0.0  \n",
       "\n",
       "[5 rows x 22 columns]"
      ]
     },
     "execution_count": 4,
     "metadata": {},
     "output_type": "execute_result"
    }
   ],
   "source": [
    "df_m.head()"
   ]
  },
  {
   "cell_type": "code",
   "execution_count": 5,
   "metadata": {},
   "outputs": [
    {
     "data": {
      "text/plain": [
       "(78814, 22)"
      ]
     },
     "execution_count": 5,
     "metadata": {},
     "output_type": "execute_result"
    }
   ],
   "source": [
    "df_m.shape"
   ]
  },
  {
   "cell_type": "markdown",
   "metadata": {},
   "source": [
    "## Part-2: EDA"
   ]
  },
  {
   "cell_type": "code",
   "execution_count": 6,
   "metadata": {},
   "outputs": [],
   "source": [
    "df_m['gender'] = df_m['gender'].map({'MALE': 0, 'FEMALE': 1, 'OTHER': 2, '-unknown-': 3})"
   ]
  },
  {
   "cell_type": "code",
   "execution_count": 7,
   "metadata": {},
   "outputs": [
    {
     "data": {
      "text/plain": [
       "(78814, 22)"
      ]
     },
     "execution_count": 7,
     "metadata": {},
     "output_type": "execute_result"
    }
   ],
   "source": [
    "df_m.shape"
   ]
  },
  {
   "cell_type": "code",
   "execution_count": 8,
   "metadata": {},
   "outputs": [
    {
     "data": {
      "text/plain": [
       "id                                   0\n",
       "date_account_created                 0\n",
       "timestamp_first_active               0\n",
       "date_first_booking                   0\n",
       "gender                               0\n",
       "age                              17858\n",
       "signup_method                        0\n",
       "signup_flow                          0\n",
       "language                             0\n",
       "affiliate_channel                    0\n",
       "affiliate_provider                   0\n",
       "first_affiliate_tracked           1625\n",
       "signup_app                           0\n",
       "first_device_type                    0\n",
       "first_browser                        0\n",
       "country_destination                  0\n",
       "lat_destination                      0\n",
       "lng_destination                      0\n",
       "distance_km                          0\n",
       "destination_km2                      0\n",
       "destination_language                 0\n",
       "language_levenshtein_distance        0\n",
       "dtype: int64"
      ]
     },
     "execution_count": 8,
     "metadata": {},
     "output_type": "execute_result"
    }
   ],
   "source": [
    "df_m.isnull().sum()"
   ]
  },
  {
   "cell_type": "code",
   "execution_count": 9,
   "metadata": {},
   "outputs": [
    {
     "data": {
      "text/plain": [
       "33.0"
      ]
     },
     "execution_count": 9,
     "metadata": {},
     "output_type": "execute_result"
    }
   ],
   "source": [
    "df_m.age.median()"
   ]
  },
  {
   "cell_type": "code",
   "execution_count": 10,
   "metadata": {},
   "outputs": [],
   "source": [
    "df_m['age'] = df_m['age'].fillna(33)"
   ]
  },
  {
   "cell_type": "code",
   "execution_count": 11,
   "metadata": {},
   "outputs": [
    {
     "data": {
      "text/plain": [
       "id                                  0\n",
       "date_account_created                0\n",
       "timestamp_first_active              0\n",
       "date_first_booking                  0\n",
       "gender                              0\n",
       "age                                 0\n",
       "signup_method                       0\n",
       "signup_flow                         0\n",
       "language                            0\n",
       "affiliate_channel                   0\n",
       "affiliate_provider                  0\n",
       "first_affiliate_tracked          1625\n",
       "signup_app                          0\n",
       "first_device_type                   0\n",
       "first_browser                       0\n",
       "country_destination                 0\n",
       "lat_destination                     0\n",
       "lng_destination                     0\n",
       "distance_km                         0\n",
       "destination_km2                     0\n",
       "destination_language                0\n",
       "language_levenshtein_distance       0\n",
       "dtype: int64"
      ]
     },
     "execution_count": 11,
     "metadata": {},
     "output_type": "execute_result"
    }
   ],
   "source": [
    "df_m.isnull().sum()"
   ]
  },
  {
   "cell_type": "code",
   "execution_count": 12,
   "metadata": {},
   "outputs": [],
   "source": [
    "df_m['first_affiliate_tracked'].fillna('', inplace = True)"
   ]
  },
  {
   "cell_type": "code",
   "execution_count": 13,
   "metadata": {},
   "outputs": [
    {
     "data": {
      "text/plain": [
       "id                               0\n",
       "date_account_created             0\n",
       "timestamp_first_active           0\n",
       "date_first_booking               0\n",
       "gender                           0\n",
       "age                              0\n",
       "signup_method                    0\n",
       "signup_flow                      0\n",
       "language                         0\n",
       "affiliate_channel                0\n",
       "affiliate_provider               0\n",
       "first_affiliate_tracked          0\n",
       "signup_app                       0\n",
       "first_device_type                0\n",
       "first_browser                    0\n",
       "country_destination              0\n",
       "lat_destination                  0\n",
       "lng_destination                  0\n",
       "distance_km                      0\n",
       "destination_km2                  0\n",
       "destination_language             0\n",
       "language_levenshtein_distance    0\n",
       "dtype: int64"
      ]
     },
     "execution_count": 13,
     "metadata": {},
     "output_type": "execute_result"
    }
   ],
   "source": [
    "df_m.isnull().sum()"
   ]
  },
  {
   "cell_type": "code",
   "execution_count": 14,
   "metadata": {},
   "outputs": [
    {
     "data": {
      "text/plain": [
       "Index(['id', 'date_account_created', 'timestamp_first_active',\n",
       "       'date_first_booking', 'gender', 'age', 'signup_method', 'signup_flow',\n",
       "       'language', 'affiliate_channel', 'affiliate_provider',\n",
       "       'first_affiliate_tracked', 'signup_app', 'first_device_type',\n",
       "       'first_browser', 'country_destination', 'lat_destination',\n",
       "       'lng_destination', 'distance_km', 'destination_km2',\n",
       "       'destination_language ', 'language_levenshtein_distance'],\n",
       "      dtype='object')"
      ]
     },
     "execution_count": 14,
     "metadata": {},
     "output_type": "execute_result"
    }
   ],
   "source": [
    "df_m.columns"
   ]
  },
  {
   "cell_type": "code",
   "execution_count": 15,
   "metadata": {},
   "outputs": [
    {
     "data": {
      "text/plain": [
       "<AxesSubplot:>"
      ]
     },
     "execution_count": 15,
     "metadata": {},
     "output_type": "execute_result"
    },
    {
     "data": {
      "image/png": "[encoded data removed]",
      "text/plain": [
       "<Figure size 864x720 with 2 Axes>"
      ]
     },
     "metadata": {
      "needs_background": "light"
     },
     "output_type": "display_data"
    }
   ],
   "source": [
    "plt.figure(figsize = (12, 10))\n",
    "sns.heatmap(df_m.corr(), cmap = 'viridis', annot = True)"
   ]
  },
  {
   "cell_type": "code",
   "execution_count": 16,
   "metadata": {},
   "outputs": [
    {
     "data": {
      "text/plain": [
       "Text(0, 0.5, 'count')"
      ]
     },
     "execution_count": 16,
     "metadata": {},
     "output_type": "execute_result"
    },
    {
     "data": {
      "image/png": "[encoded data removed]",
      "text/plain": [
       "<Figure size 432x288 with 1 Axes>"
      ]
     },
     "metadata": {
      "needs_background": "light"
     },
     "output_type": "display_data"
    }
   ],
   "source": [
    "df_m['age'].hist()\n",
    "plt.xlabel('age')\n",
    "plt.ylabel('count')"
   ]
  },
  {
   "cell_type": "code",
   "execution_count": 17,
   "metadata": {},
   "outputs": [],
   "source": [
    "df_m = df_m[df_m['age'] < 100]"
   ]
  },
  {
   "cell_type": "code",
   "execution_count": 18,
   "metadata": {},
   "outputs": [
    {
     "data": {
      "text/plain": [
       "Text(0, 0.5, 'count')"
      ]
     },
     "execution_count": 18,
     "metadata": {},
     "output_type": "execute_result"
    },
    {
     "data": {
      "image/png": "[encoded data removed]",
      "text/plain": [
       "<Figure size 432x288 with 1 Axes>"
      ]
     },
     "metadata": {
      "needs_background": "light"
     },
     "output_type": "display_data"
    }
   ],
   "source": [
    "df_m['age'].hist()\n",
    "plt.xlabel('age')\n",
    "plt.ylabel('count')"
   ]
  },
  {
   "cell_type": "code",
   "execution_count": 19,
   "metadata": {},
   "outputs": [
    {
     "name": "stderr",
     "output_type": "stream",
     "text": [
      "/Users/tahir/anaconda3/lib/python3.8/site-packages/seaborn/_decorators.py:36: FutureWarning: Pass the following variable as a keyword arg: x. From version 0.12, the only valid positional argument will be `data`, and passing other arguments without an explicit keyword will result in an error or misinterpretation.\n",
      "  warnings.warn(\n"
     ]
    },
    {
     "data": {
      "image/png": "[encoded data removed]",
      "text/plain": [
       "<Figure size 432x288 with 1 Axes>"
      ]
     },
     "metadata": {
      "needs_background": "light"
     },
     "output_type": "display_data"
    }
   ],
   "source": [
    "sns.boxplot(df_m['age']);"
   ]
  },
  {
   "cell_type": "code",
   "execution_count": 20,
   "metadata": {},
   "outputs": [
    {
     "data": {
      "text/plain": [
       "count    77648.000000\n",
       "mean        35.400139\n",
       "std          9.882045\n",
       "min          2.000000\n",
       "25%         30.000000\n",
       "50%         33.000000\n",
       "75%         38.000000\n",
       "max         99.000000\n",
       "Name: age, dtype: float64"
      ]
     },
     "execution_count": 20,
     "metadata": {},
     "output_type": "execute_result"
    }
   ],
   "source": [
    "df_m['age'].describe()"
   ]
  },
  {
   "cell_type": "code",
   "execution_count": 21,
   "metadata": {},
   "outputs": [
    {
     "data": {
      "text/html": [
       "<div>\n",
       "<style scoped>\n",
       "    .dataframe tbody tr th:only-of-type {\n",
       "        vertical-align: middle;\n",
       "    }\n",
       "\n",
       "    .dataframe tbody tr th {\n",
       "        vertical-align: top;\n",
       "    }\n",
       "\n",
       "    .dataframe thead th {\n",
       "        text-align: right;\n",
       "    }\n",
       "</style>\n",
       "<table border=\"1\" class=\"dataframe\">\n",
       "  <thead>\n",
       "    <tr style=\"text-align: right;\">\n",
       "      <th></th>\n",
       "      <th>timestamp_first_active</th>\n",
       "      <th>gender</th>\n",
       "      <th>age</th>\n",
       "      <th>signup_flow</th>\n",
       "      <th>lat_destination</th>\n",
       "      <th>lng_destination</th>\n",
       "      <th>distance_km</th>\n",
       "      <th>destination_km2</th>\n",
       "      <th>language_levenshtein_distance</th>\n",
       "    </tr>\n",
       "  </thead>\n",
       "  <tbody>\n",
       "    <tr>\n",
       "      <th>count</th>\n",
       "      <td>7.764800e+04</td>\n",
       "      <td>77648.000000</td>\n",
       "      <td>77648.000000</td>\n",
       "      <td>77648.000000</td>\n",
       "      <td>77648.000000</td>\n",
       "      <td>77648.000000</td>\n",
       "      <td>77648.000000</td>\n",
       "      <td>7.764800e+04</td>\n",
       "      <td>77648.000000</td>\n",
       "    </tr>\n",
       "    <tr>\n",
       "      <th>mean</th>\n",
       "      <td>2.012976e+13</td>\n",
       "      <td>1.339764</td>\n",
       "      <td>35.400139</td>\n",
       "      <td>2.424390</td>\n",
       "      <td>38.707939</td>\n",
       "      <td>-76.091815</td>\n",
       "      <td>1579.945756</td>\n",
       "      <td>8.088531e+06</td>\n",
       "      <td>13.583739</td>\n",
       "    </tr>\n",
       "    <tr>\n",
       "      <th>std</th>\n",
       "      <td>9.843518e+09</td>\n",
       "      <td>1.220172</td>\n",
       "      <td>9.882045</td>\n",
       "      <td>6.467275</td>\n",
       "      <td>7.568111</td>\n",
       "      <td>42.172478</td>\n",
       "      <td>3215.178122</td>\n",
       "      <td>3.638825e+06</td>\n",
       "      <td>31.972729</td>\n",
       "    </tr>\n",
       "    <tr>\n",
       "      <th>min</th>\n",
       "      <td>2.009061e+13</td>\n",
       "      <td>0.000000</td>\n",
       "      <td>2.000000</td>\n",
       "      <td>0.000000</td>\n",
       "      <td>-26.853388</td>\n",
       "      <td>-96.818146</td>\n",
       "      <td>0.000000</td>\n",
       "      <td>4.154300e+04</td>\n",
       "      <td>0.000000</td>\n",
       "    </tr>\n",
       "    <tr>\n",
       "      <th>25%</th>\n",
       "      <td>2.012101e+13</td>\n",
       "      <td>0.000000</td>\n",
       "      <td>30.000000</td>\n",
       "      <td>0.000000</td>\n",
       "      <td>36.966427</td>\n",
       "      <td>-95.844030</td>\n",
       "      <td>0.000000</td>\n",
       "      <td>9.826675e+06</td>\n",
       "      <td>0.000000</td>\n",
       "    </tr>\n",
       "    <tr>\n",
       "      <th>50%</th>\n",
       "      <td>2.013080e+13</td>\n",
       "      <td>1.000000</td>\n",
       "      <td>33.000000</td>\n",
       "      <td>0.000000</td>\n",
       "      <td>36.966427</td>\n",
       "      <td>-95.844030</td>\n",
       "      <td>0.000000</td>\n",
       "      <td>9.826675e+06</td>\n",
       "      <td>0.000000</td>\n",
       "    </tr>\n",
       "    <tr>\n",
       "      <th>75%</th>\n",
       "      <td>2.014022e+13</td>\n",
       "      <td>3.000000</td>\n",
       "      <td>38.000000</td>\n",
       "      <td>0.000000</td>\n",
       "      <td>36.966427</td>\n",
       "      <td>-95.844030</td>\n",
       "      <td>0.000000</td>\n",
       "      <td>9.826675e+06</td>\n",
       "      <td>0.000000</td>\n",
       "    </tr>\n",
       "    <tr>\n",
       "      <th>max</th>\n",
       "      <td>2.014063e+13</td>\n",
       "      <td>3.000000</td>\n",
       "      <td>99.000000</td>\n",
       "      <td>25.000000</td>\n",
       "      <td>62.393303</td>\n",
       "      <td>133.275160</td>\n",
       "      <td>15297.744000</td>\n",
       "      <td>9.984670e+06</td>\n",
       "      <td>95.450000</td>\n",
       "    </tr>\n",
       "  </tbody>\n",
       "</table>\n",
       "</div>"
      ],
      "text/plain": [
       "       timestamp_first_active        gender           age   signup_flow  \\\n",
       "count            7.764800e+04  77648.000000  77648.000000  77648.000000   \n",
       "mean             2.012976e+13      1.339764     35.400139      2.424390   \n",
       "std              9.843518e+09      1.220172      9.882045      6.467275   \n",
       "min              2.009061e+13      0.000000      2.000000      0.000000   \n",
       "25%              2.012101e+13      0.000000     30.000000      0.000000   \n",
       "50%              2.013080e+13      1.000000     33.000000      0.000000   \n",
       "75%              2.014022e+13      3.000000     38.000000      0.000000   \n",
       "max              2.014063e+13      3.000000     99.000000     25.000000   \n",
       "\n",
       "       lat_destination  lng_destination   distance_km  destination_km2  \\\n",
       "count     77648.000000     77648.000000  77648.000000     7.764800e+04   \n",
       "mean         38.707939       -76.091815   1579.945756     8.088531e+06   \n",
       "std           7.568111        42.172478   3215.178122     3.638825e+06   \n",
       "min         -26.853388       -96.818146      0.000000     4.154300e+04   \n",
       "25%          36.966427       -95.844030      0.000000     9.826675e+06   \n",
       "50%          36.966427       -95.844030      0.000000     9.826675e+06   \n",
       "75%          36.966427       -95.844030      0.000000     9.826675e+06   \n",
       "max          62.393303       133.275160  15297.744000     9.984670e+06   \n",
       "\n",
       "       language_levenshtein_distance  \n",
       "count                   77648.000000  \n",
       "mean                       13.583739  \n",
       "std                        31.972729  \n",
       "min                         0.000000  \n",
       "25%                         0.000000  \n",
       "50%                         0.000000  \n",
       "75%                         0.000000  \n",
       "max                        95.450000  "
      ]
     },
     "execution_count": 21,
     "metadata": {},
     "output_type": "execute_result"
    }
   ],
   "source": [
    "df_m.describe()"
   ]
  },
  {
   "cell_type": "code",
   "execution_count": 22,
   "metadata": {},
   "outputs": [
    {
     "data": {
      "text/plain": [
       "<AxesSubplot:>"
      ]
     },
     "execution_count": 22,
     "metadata": {},
     "output_type": "execute_result"
    },
    {
     "data": {
      "image/png": "[encoded data removed]",
      "text/plain": [
       "<Figure size 864x720 with 2 Axes>"
      ]
     },
     "metadata": {
      "needs_background": "light"
     },
     "output_type": "display_data"
    }
   ],
   "source": [
    "plt.figure(figsize = (12, 10))\n",
    "sns.heatmap(df_m.corr(), cmap = 'viridis', annot = True)"
   ]
  },
  {
   "cell_type": "code",
   "execution_count": 23,
   "metadata": {},
   "outputs": [
    {
     "data": {
      "text/plain": [
       "id                               0\n",
       "date_account_created             0\n",
       "timestamp_first_active           0\n",
       "date_first_booking               0\n",
       "gender                           0\n",
       "age                              0\n",
       "signup_method                    0\n",
       "signup_flow                      0\n",
       "language                         0\n",
       "affiliate_channel                0\n",
       "affiliate_provider               0\n",
       "first_affiliate_tracked          0\n",
       "signup_app                       0\n",
       "first_device_type                0\n",
       "first_browser                    0\n",
       "country_destination              0\n",
       "lat_destination                  0\n",
       "lng_destination                  0\n",
       "distance_km                      0\n",
       "destination_km2                  0\n",
       "destination_language             0\n",
       "language_levenshtein_distance    0\n",
       "dtype: int64"
      ]
     },
     "execution_count": 23,
     "metadata": {},
     "output_type": "execute_result"
    }
   ],
   "source": [
    "df_m.isnull().sum()"
   ]
  },
  {
   "cell_type": "code",
   "execution_count": 24,
   "metadata": {},
   "outputs": [
    {
     "data": {
      "text/plain": [
       "en    75716\n",
       "zh      440\n",
       "fr      376\n",
       "de      252\n",
       "es      228\n",
       "ko      180\n",
       "it       97\n",
       "ru       95\n",
       "ja       72\n",
       "pt       44\n",
       "sv       37\n",
       "nl       29\n",
       "da       17\n",
       "tr       16\n",
       "no       12\n",
       "pl       11\n",
       "cs        7\n",
       "fi        6\n",
       "el        5\n",
       "th        3\n",
       "hu        2\n",
       "ca        2\n",
       "is        1\n",
       "Name: language, dtype: int64"
      ]
     },
     "execution_count": 24,
     "metadata": {},
     "output_type": "execute_result"
    }
   ],
   "source": [
    "df_m['language'].value_counts()"
   ]
  },
  {
   "cell_type": "code",
   "execution_count": 25,
   "metadata": {},
   "outputs": [
    {
     "data": {
      "text/html": [
       "<div>\n",
       "<style scoped>\n",
       "    .dataframe tbody tr th:only-of-type {\n",
       "        vertical-align: middle;\n",
       "    }\n",
       "\n",
       "    .dataframe tbody tr th {\n",
       "        vertical-align: top;\n",
       "    }\n",
       "\n",
       "    .dataframe thead th {\n",
       "        text-align: right;\n",
       "    }\n",
       "</style>\n",
       "<table border=\"1\" class=\"dataframe\">\n",
       "  <thead>\n",
       "    <tr style=\"text-align: right;\">\n",
       "      <th></th>\n",
       "      <th>timestamp_first_active</th>\n",
       "      <th>gender</th>\n",
       "      <th>age</th>\n",
       "      <th>signup_flow</th>\n",
       "      <th>lat_destination</th>\n",
       "      <th>lng_destination</th>\n",
       "      <th>distance_km</th>\n",
       "      <th>destination_km2</th>\n",
       "      <th>language_levenshtein_distance</th>\n",
       "    </tr>\n",
       "  </thead>\n",
       "  <tbody>\n",
       "    <tr>\n",
       "      <th>count</th>\n",
       "      <td>7.764800e+04</td>\n",
       "      <td>77648.000000</td>\n",
       "      <td>77648.000000</td>\n",
       "      <td>77648.000000</td>\n",
       "      <td>77648.000000</td>\n",
       "      <td>77648.000000</td>\n",
       "      <td>77648.000000</td>\n",
       "      <td>7.764800e+04</td>\n",
       "      <td>77648.000000</td>\n",
       "    </tr>\n",
       "    <tr>\n",
       "      <th>mean</th>\n",
       "      <td>2.012976e+13</td>\n",
       "      <td>1.339764</td>\n",
       "      <td>35.400139</td>\n",
       "      <td>2.424390</td>\n",
       "      <td>38.707939</td>\n",
       "      <td>-76.091815</td>\n",
       "      <td>1579.945756</td>\n",
       "      <td>8.088531e+06</td>\n",
       "      <td>13.583739</td>\n",
       "    </tr>\n",
       "    <tr>\n",
       "      <th>std</th>\n",
       "      <td>9.843518e+09</td>\n",
       "      <td>1.220172</td>\n",
       "      <td>9.882045</td>\n",
       "      <td>6.467275</td>\n",
       "      <td>7.568111</td>\n",
       "      <td>42.172478</td>\n",
       "      <td>3215.178122</td>\n",
       "      <td>3.638825e+06</td>\n",
       "      <td>31.972729</td>\n",
       "    </tr>\n",
       "    <tr>\n",
       "      <th>min</th>\n",
       "      <td>2.009061e+13</td>\n",
       "      <td>0.000000</td>\n",
       "      <td>2.000000</td>\n",
       "      <td>0.000000</td>\n",
       "      <td>-26.853388</td>\n",
       "      <td>-96.818146</td>\n",
       "      <td>0.000000</td>\n",
       "      <td>4.154300e+04</td>\n",
       "      <td>0.000000</td>\n",
       "    </tr>\n",
       "    <tr>\n",
       "      <th>25%</th>\n",
       "      <td>2.012101e+13</td>\n",
       "      <td>0.000000</td>\n",
       "      <td>30.000000</td>\n",
       "      <td>0.000000</td>\n",
       "      <td>36.966427</td>\n",
       "      <td>-95.844030</td>\n",
       "      <td>0.000000</td>\n",
       "      <td>9.826675e+06</td>\n",
       "      <td>0.000000</td>\n",
       "    </tr>\n",
       "    <tr>\n",
       "      <th>50%</th>\n",
       "      <td>2.013080e+13</td>\n",
       "      <td>1.000000</td>\n",
       "      <td>33.000000</td>\n",
       "      <td>0.000000</td>\n",
       "      <td>36.966427</td>\n",
       "      <td>-95.844030</td>\n",
       "      <td>0.000000</td>\n",
       "      <td>9.826675e+06</td>\n",
       "      <td>0.000000</td>\n",
       "    </tr>\n",
       "    <tr>\n",
       "      <th>75%</th>\n",
       "      <td>2.014022e+13</td>\n",
       "      <td>3.000000</td>\n",
       "      <td>38.000000</td>\n",
       "      <td>0.000000</td>\n",
       "      <td>36.966427</td>\n",
       "      <td>-95.844030</td>\n",
       "      <td>0.000000</td>\n",
       "      <td>9.826675e+06</td>\n",
       "      <td>0.000000</td>\n",
       "    </tr>\n",
       "    <tr>\n",
       "      <th>max</th>\n",
       "      <td>2.014063e+13</td>\n",
       "      <td>3.000000</td>\n",
       "      <td>99.000000</td>\n",
       "      <td>25.000000</td>\n",
       "      <td>62.393303</td>\n",
       "      <td>133.275160</td>\n",
       "      <td>15297.744000</td>\n",
       "      <td>9.984670e+06</td>\n",
       "      <td>95.450000</td>\n",
       "    </tr>\n",
       "  </tbody>\n",
       "</table>\n",
       "</div>"
      ],
      "text/plain": [
       "       timestamp_first_active        gender           age   signup_flow  \\\n",
       "count            7.764800e+04  77648.000000  77648.000000  77648.000000   \n",
       "mean             2.012976e+13      1.339764     35.400139      2.424390   \n",
       "std              9.843518e+09      1.220172      9.882045      6.467275   \n",
       "min              2.009061e+13      0.000000      2.000000      0.000000   \n",
       "25%              2.012101e+13      0.000000     30.000000      0.000000   \n",
       "50%              2.013080e+13      1.000000     33.000000      0.000000   \n",
       "75%              2.014022e+13      3.000000     38.000000      0.000000   \n",
       "max              2.014063e+13      3.000000     99.000000     25.000000   \n",
       "\n",
       "       lat_destination  lng_destination   distance_km  destination_km2  \\\n",
       "count     77648.000000     77648.000000  77648.000000     7.764800e+04   \n",
       "mean         38.707939       -76.091815   1579.945756     8.088531e+06   \n",
       "std           7.568111        42.172478   3215.178122     3.638825e+06   \n",
       "min         -26.853388       -96.818146      0.000000     4.154300e+04   \n",
       "25%          36.966427       -95.844030      0.000000     9.826675e+06   \n",
       "50%          36.966427       -95.844030      0.000000     9.826675e+06   \n",
       "75%          36.966427       -95.844030      0.000000     9.826675e+06   \n",
       "max          62.393303       133.275160  15297.744000     9.984670e+06   \n",
       "\n",
       "       language_levenshtein_distance  \n",
       "count                   77648.000000  \n",
       "mean                       13.583739  \n",
       "std                        31.972729  \n",
       "min                         0.000000  \n",
       "25%                         0.000000  \n",
       "50%                         0.000000  \n",
       "75%                         0.000000  \n",
       "max                        95.450000  "
      ]
     },
     "execution_count": 25,
     "metadata": {},
     "output_type": "execute_result"
    }
   ],
   "source": [
    "df_m.describe()"
   ]
  },
  {
   "cell_type": "code",
   "execution_count": 26,
   "metadata": {},
   "outputs": [
    {
     "data": {
      "text/html": [
       "<div>\n",
       "<style scoped>\n",
       "    .dataframe tbody tr th:only-of-type {\n",
       "        vertical-align: middle;\n",
       "    }\n",
       "\n",
       "    .dataframe tbody tr th {\n",
       "        vertical-align: top;\n",
       "    }\n",
       "\n",
       "    .dataframe thead th {\n",
       "        text-align: right;\n",
       "    }\n",
       "</style>\n",
       "<table border=\"1\" class=\"dataframe\">\n",
       "  <thead>\n",
       "    <tr style=\"text-align: right;\">\n",
       "      <th></th>\n",
       "      <th>id</th>\n",
       "      <th>date_account_created</th>\n",
       "      <th>timestamp_first_active</th>\n",
       "      <th>date_first_booking</th>\n",
       "      <th>gender</th>\n",
       "      <th>age</th>\n",
       "      <th>signup_method</th>\n",
       "      <th>signup_flow</th>\n",
       "      <th>language</th>\n",
       "      <th>affiliate_channel</th>\n",
       "      <th>...</th>\n",
       "      <th>signup_app</th>\n",
       "      <th>first_device_type</th>\n",
       "      <th>first_browser</th>\n",
       "      <th>country_destination</th>\n",
       "      <th>lat_destination</th>\n",
       "      <th>lng_destination</th>\n",
       "      <th>distance_km</th>\n",
       "      <th>destination_km2</th>\n",
       "      <th>destination_language</th>\n",
       "      <th>language_levenshtein_distance</th>\n",
       "    </tr>\n",
       "  </thead>\n",
       "  <tbody>\n",
       "    <tr>\n",
       "      <th>0</th>\n",
       "      <td>4ft3gnwmtx</td>\n",
       "      <td>2010-09-28</td>\n",
       "      <td>20090609231247</td>\n",
       "      <td>2010-08-02</td>\n",
       "      <td>1</td>\n",
       "      <td>56.0</td>\n",
       "      <td>basic</td>\n",
       "      <td>3</td>\n",
       "      <td>en</td>\n",
       "      <td>direct</td>\n",
       "      <td>...</td>\n",
       "      <td>Web</td>\n",
       "      <td>Windows Desktop</td>\n",
       "      <td>IE</td>\n",
       "      <td>US</td>\n",
       "      <td>36.966427</td>\n",
       "      <td>-95.84403</td>\n",
       "      <td>0.0</td>\n",
       "      <td>9826675.0</td>\n",
       "      <td>eng</td>\n",
       "      <td>0.0</td>\n",
       "    </tr>\n",
       "    <tr>\n",
       "      <th>1</th>\n",
       "      <td>87mebub9p4</td>\n",
       "      <td>2010-09-14</td>\n",
       "      <td>20091208061105</td>\n",
       "      <td>2010-02-18</td>\n",
       "      <td>3</td>\n",
       "      <td>41.0</td>\n",
       "      <td>basic</td>\n",
       "      <td>0</td>\n",
       "      <td>en</td>\n",
       "      <td>direct</td>\n",
       "      <td>...</td>\n",
       "      <td>Web</td>\n",
       "      <td>Mac Desktop</td>\n",
       "      <td>Chrome</td>\n",
       "      <td>US</td>\n",
       "      <td>36.966427</td>\n",
       "      <td>-95.84403</td>\n",
       "      <td>0.0</td>\n",
       "      <td>9826675.0</td>\n",
       "      <td>eng</td>\n",
       "      <td>0.0</td>\n",
       "    </tr>\n",
       "    <tr>\n",
       "      <th>2</th>\n",
       "      <td>osr2jwljor</td>\n",
       "      <td>2010-01-01</td>\n",
       "      <td>20100101215619</td>\n",
       "      <td>2010-01-02</td>\n",
       "      <td>3</td>\n",
       "      <td>33.0</td>\n",
       "      <td>basic</td>\n",
       "      <td>0</td>\n",
       "      <td>en</td>\n",
       "      <td>other</td>\n",
       "      <td>...</td>\n",
       "      <td>Web</td>\n",
       "      <td>Mac Desktop</td>\n",
       "      <td>Chrome</td>\n",
       "      <td>US</td>\n",
       "      <td>36.966427</td>\n",
       "      <td>-95.84403</td>\n",
       "      <td>0.0</td>\n",
       "      <td>9826675.0</td>\n",
       "      <td>eng</td>\n",
       "      <td>0.0</td>\n",
       "    </tr>\n",
       "    <tr>\n",
       "      <th>3</th>\n",
       "      <td>lsw9q7uk0j</td>\n",
       "      <td>2010-01-02</td>\n",
       "      <td>20100102012558</td>\n",
       "      <td>2010-01-05</td>\n",
       "      <td>1</td>\n",
       "      <td>46.0</td>\n",
       "      <td>basic</td>\n",
       "      <td>0</td>\n",
       "      <td>en</td>\n",
       "      <td>other</td>\n",
       "      <td>...</td>\n",
       "      <td>Web</td>\n",
       "      <td>Mac Desktop</td>\n",
       "      <td>Safari</td>\n",
       "      <td>US</td>\n",
       "      <td>36.966427</td>\n",
       "      <td>-95.84403</td>\n",
       "      <td>0.0</td>\n",
       "      <td>9826675.0</td>\n",
       "      <td>eng</td>\n",
       "      <td>0.0</td>\n",
       "    </tr>\n",
       "    <tr>\n",
       "      <th>4</th>\n",
       "      <td>0d01nltbrs</td>\n",
       "      <td>2010-01-03</td>\n",
       "      <td>20100103191905</td>\n",
       "      <td>2010-01-13</td>\n",
       "      <td>1</td>\n",
       "      <td>47.0</td>\n",
       "      <td>basic</td>\n",
       "      <td>0</td>\n",
       "      <td>en</td>\n",
       "      <td>direct</td>\n",
       "      <td>...</td>\n",
       "      <td>Web</td>\n",
       "      <td>Mac Desktop</td>\n",
       "      <td>Safari</td>\n",
       "      <td>US</td>\n",
       "      <td>36.966427</td>\n",
       "      <td>-95.84403</td>\n",
       "      <td>0.0</td>\n",
       "      <td>9826675.0</td>\n",
       "      <td>eng</td>\n",
       "      <td>0.0</td>\n",
       "    </tr>\n",
       "  </tbody>\n",
       "</table>\n",
       "<p>5 rows × 22 columns</p>\n",
       "</div>"
      ],
      "text/plain": [
       "           id date_account_created  timestamp_first_active date_first_booking  \\\n",
       "0  4ft3gnwmtx           2010-09-28          20090609231247         2010-08-02   \n",
       "1  87mebub9p4           2010-09-14          20091208061105         2010-02-18   \n",
       "2  osr2jwljor           2010-01-01          20100101215619         2010-01-02   \n",
       "3  lsw9q7uk0j           2010-01-02          20100102012558         2010-01-05   \n",
       "4  0d01nltbrs           2010-01-03          20100103191905         2010-01-13   \n",
       "\n",
       "   gender   age signup_method  signup_flow language affiliate_channel  ...  \\\n",
       "0       1  56.0         basic            3       en            direct  ...   \n",
       "1       3  41.0         basic            0       en            direct  ...   \n",
       "2       3  33.0         basic            0       en             other  ...   \n",
       "3       1  46.0         basic            0       en             other  ...   \n",
       "4       1  47.0         basic            0       en            direct  ...   \n",
       "\n",
       "  signup_app first_device_type first_browser country_destination  \\\n",
       "0        Web   Windows Desktop            IE                  US   \n",
       "1        Web       Mac Desktop        Chrome                  US   \n",
       "2        Web       Mac Desktop        Chrome                  US   \n",
       "3        Web       Mac Desktop        Safari                  US   \n",
       "4        Web       Mac Desktop        Safari                  US   \n",
       "\n",
       "  lat_destination lng_destination  distance_km  destination_km2  \\\n",
       "0       36.966427       -95.84403          0.0        9826675.0   \n",
       "1       36.966427       -95.84403          0.0        9826675.0   \n",
       "2       36.966427       -95.84403          0.0        9826675.0   \n",
       "3       36.966427       -95.84403          0.0        9826675.0   \n",
       "4       36.966427       -95.84403          0.0        9826675.0   \n",
       "\n",
       "   destination_language   language_levenshtein_distance  \n",
       "0                    eng                            0.0  \n",
       "1                    eng                            0.0  \n",
       "2                    eng                            0.0  \n",
       "3                    eng                            0.0  \n",
       "4                    eng                            0.0  \n",
       "\n",
       "[5 rows x 22 columns]"
      ]
     },
     "execution_count": 26,
     "metadata": {},
     "output_type": "execute_result"
    }
   ],
   "source": [
    "df_m.head()"
   ]
  },
  {
   "cell_type": "code",
   "execution_count": 27,
   "metadata": {},
   "outputs": [
    {
     "data": {
      "text/plain": [
       "(77648, 22)"
      ]
     },
     "execution_count": 27,
     "metadata": {},
     "output_type": "execute_result"
    }
   ],
   "source": [
    "df_m.shape"
   ]
  },
  {
   "cell_type": "code",
   "execution_count": 28,
   "metadata": {},
   "outputs": [
    {
     "data": {
      "text/plain": [
       "Index(['id', 'date_account_created', 'timestamp_first_active',\n",
       "       'date_first_booking', 'gender', 'age', 'signup_method', 'signup_flow',\n",
       "       'language', 'affiliate_channel', 'affiliate_provider',\n",
       "       'first_affiliate_tracked', 'signup_app', 'first_device_type',\n",
       "       'first_browser', 'country_destination', 'lat_destination',\n",
       "       'lng_destination', 'distance_km', 'destination_km2',\n",
       "       'destination_language ', 'language_levenshtein_distance'],\n",
       "      dtype='object')"
      ]
     },
     "execution_count": 28,
     "metadata": {},
     "output_type": "execute_result"
    }
   ],
   "source": [
    "df_m.columns"
   ]
  },
  {
   "cell_type": "code",
   "execution_count": 29,
   "metadata": {},
   "outputs": [],
   "source": [
    "feature_list = ['id', 'age', 'gender', 'signup_method', 'affiliate_provider', 'distance_km', 'country_destination', 'destination_km2', 'destination_language ', 'language_levenshtein_distance']"
   ]
  },
  {
   "cell_type": "code",
   "execution_count": 30,
   "metadata": {},
   "outputs": [],
   "source": [
    "df_mf = df_m[feature_list]"
   ]
  },
  {
   "cell_type": "code",
   "execution_count": 31,
   "metadata": {},
   "outputs": [
    {
     "data": {
      "text/html": [
       "<div>\n",
       "<style scoped>\n",
       "    .dataframe tbody tr th:only-of-type {\n",
       "        vertical-align: middle;\n",
       "    }\n",
       "\n",
       "    .dataframe tbody tr th {\n",
       "        vertical-align: top;\n",
       "    }\n",
       "\n",
       "    .dataframe thead th {\n",
       "        text-align: right;\n",
       "    }\n",
       "</style>\n",
       "<table border=\"1\" class=\"dataframe\">\n",
       "  <thead>\n",
       "    <tr style=\"text-align: right;\">\n",
       "      <th></th>\n",
       "      <th>id</th>\n",
       "      <th>age</th>\n",
       "      <th>gender</th>\n",
       "      <th>signup_method</th>\n",
       "      <th>affiliate_provider</th>\n",
       "      <th>distance_km</th>\n",
       "      <th>country_destination</th>\n",
       "      <th>destination_km2</th>\n",
       "      <th>destination_language</th>\n",
       "      <th>language_levenshtein_distance</th>\n",
       "    </tr>\n",
       "  </thead>\n",
       "  <tbody>\n",
       "    <tr>\n",
       "      <th>0</th>\n",
       "      <td>4ft3gnwmtx</td>\n",
       "      <td>56.0</td>\n",
       "      <td>1</td>\n",
       "      <td>basic</td>\n",
       "      <td>direct</td>\n",
       "      <td>0.0</td>\n",
       "      <td>US</td>\n",
       "      <td>9826675.0</td>\n",
       "      <td>eng</td>\n",
       "      <td>0.0</td>\n",
       "    </tr>\n",
       "    <tr>\n",
       "      <th>1</th>\n",
       "      <td>87mebub9p4</td>\n",
       "      <td>41.0</td>\n",
       "      <td>3</td>\n",
       "      <td>basic</td>\n",
       "      <td>direct</td>\n",
       "      <td>0.0</td>\n",
       "      <td>US</td>\n",
       "      <td>9826675.0</td>\n",
       "      <td>eng</td>\n",
       "      <td>0.0</td>\n",
       "    </tr>\n",
       "    <tr>\n",
       "      <th>2</th>\n",
       "      <td>osr2jwljor</td>\n",
       "      <td>33.0</td>\n",
       "      <td>3</td>\n",
       "      <td>basic</td>\n",
       "      <td>other</td>\n",
       "      <td>0.0</td>\n",
       "      <td>US</td>\n",
       "      <td>9826675.0</td>\n",
       "      <td>eng</td>\n",
       "      <td>0.0</td>\n",
       "    </tr>\n",
       "    <tr>\n",
       "      <th>3</th>\n",
       "      <td>lsw9q7uk0j</td>\n",
       "      <td>46.0</td>\n",
       "      <td>1</td>\n",
       "      <td>basic</td>\n",
       "      <td>craigslist</td>\n",
       "      <td>0.0</td>\n",
       "      <td>US</td>\n",
       "      <td>9826675.0</td>\n",
       "      <td>eng</td>\n",
       "      <td>0.0</td>\n",
       "    </tr>\n",
       "    <tr>\n",
       "      <th>4</th>\n",
       "      <td>0d01nltbrs</td>\n",
       "      <td>47.0</td>\n",
       "      <td>1</td>\n",
       "      <td>basic</td>\n",
       "      <td>direct</td>\n",
       "      <td>0.0</td>\n",
       "      <td>US</td>\n",
       "      <td>9826675.0</td>\n",
       "      <td>eng</td>\n",
       "      <td>0.0</td>\n",
       "    </tr>\n",
       "  </tbody>\n",
       "</table>\n",
       "</div>"
      ],
      "text/plain": [
       "           id   age  gender signup_method affiliate_provider  distance_km  \\\n",
       "0  4ft3gnwmtx  56.0       1         basic             direct          0.0   \n",
       "1  87mebub9p4  41.0       3         basic             direct          0.0   \n",
       "2  osr2jwljor  33.0       3         basic              other          0.0   \n",
       "3  lsw9q7uk0j  46.0       1         basic         craigslist          0.0   \n",
       "4  0d01nltbrs  47.0       1         basic             direct          0.0   \n",
       "\n",
       "  country_destination  destination_km2 destination_language   \\\n",
       "0                  US        9826675.0                   eng   \n",
       "1                  US        9826675.0                   eng   \n",
       "2                  US        9826675.0                   eng   \n",
       "3                  US        9826675.0                   eng   \n",
       "4                  US        9826675.0                   eng   \n",
       "\n",
       "   language_levenshtein_distance  \n",
       "0                            0.0  \n",
       "1                            0.0  \n",
       "2                            0.0  \n",
       "3                            0.0  \n",
       "4                            0.0  "
      ]
     },
     "execution_count": 31,
     "metadata": {},
     "output_type": "execute_result"
    }
   ],
   "source": [
    "df_mf.head()"
   ]
  },
  {
   "cell_type": "code",
   "execution_count": 32,
   "metadata": {},
   "outputs": [
    {
     "data": {
      "text/plain": [
       "(77648, 10)"
      ]
     },
     "execution_count": 32,
     "metadata": {},
     "output_type": "execute_result"
    }
   ],
   "source": [
    "df_mf.shape"
   ]
  },
  {
   "cell_type": "code",
   "execution_count": 33,
   "metadata": {},
   "outputs": [
    {
     "data": {
      "text/plain": [
       "Text(0, 0.5, 'count')"
      ]
     },
     "execution_count": 33,
     "metadata": {},
     "output_type": "execute_result"
    },
    {
     "data": {
      "image/png": "[encoded data removed]",
      "text/plain": [
       "<Figure size 432x288 with 1 Axes>"
      ]
     },
     "metadata": {
      "needs_background": "light"
     },
     "output_type": "display_data"
    }
   ],
   "source": [
    "df_mf['country_destination'].hist()\n",
    "plt.xlabel('country_destination')\n",
    "plt.ylabel('count')"
   ]
  },
  {
   "cell_type": "markdown",
   "metadata": {},
   "source": [
    "## Part-3: Feature Engineering"
   ]
  },
  {
   "cell_type": "markdown",
   "metadata": {},
   "source": [
    "#### Binary US==1 and others 0"
   ]
  },
  {
   "cell_type": "markdown",
   "metadata": {},
   "source": [
    "Decided to binarize US v. Other countries given the distribution of destination exhibited in the histogram of country_destination in the EDA portion of Notebook."
   ]
  },
  {
   "cell_type": "code",
   "execution_count": 34,
   "metadata": {},
   "outputs": [],
   "source": [
    "df_mf = df_m[feature_list].copy()"
   ]
  },
  {
   "cell_type": "code",
   "execution_count": 35,
   "metadata": {},
   "outputs": [
    {
     "data": {
      "text/html": [
       "<div>\n",
       "<style scoped>\n",
       "    .dataframe tbody tr th:only-of-type {\n",
       "        vertical-align: middle;\n",
       "    }\n",
       "\n",
       "    .dataframe tbody tr th {\n",
       "        vertical-align: top;\n",
       "    }\n",
       "\n",
       "    .dataframe thead th {\n",
       "        text-align: right;\n",
       "    }\n",
       "</style>\n",
       "<table border=\"1\" class=\"dataframe\">\n",
       "  <thead>\n",
       "    <tr style=\"text-align: right;\">\n",
       "      <th></th>\n",
       "      <th>id</th>\n",
       "      <th>age</th>\n",
       "      <th>gender</th>\n",
       "      <th>signup_method</th>\n",
       "      <th>affiliate_provider</th>\n",
       "      <th>distance_km</th>\n",
       "      <th>country_destination</th>\n",
       "      <th>destination_km2</th>\n",
       "      <th>destination_language</th>\n",
       "      <th>language_levenshtein_distance</th>\n",
       "    </tr>\n",
       "  </thead>\n",
       "  <tbody>\n",
       "    <tr>\n",
       "      <th>0</th>\n",
       "      <td>4ft3gnwmtx</td>\n",
       "      <td>56.0</td>\n",
       "      <td>1</td>\n",
       "      <td>basic</td>\n",
       "      <td>direct</td>\n",
       "      <td>0.000</td>\n",
       "      <td>US</td>\n",
       "      <td>9826675.0</td>\n",
       "      <td>eng</td>\n",
       "      <td>0.0</td>\n",
       "    </tr>\n",
       "    <tr>\n",
       "      <th>1</th>\n",
       "      <td>87mebub9p4</td>\n",
       "      <td>41.0</td>\n",
       "      <td>3</td>\n",
       "      <td>basic</td>\n",
       "      <td>direct</td>\n",
       "      <td>0.000</td>\n",
       "      <td>US</td>\n",
       "      <td>9826675.0</td>\n",
       "      <td>eng</td>\n",
       "      <td>0.0</td>\n",
       "    </tr>\n",
       "    <tr>\n",
       "      <th>2</th>\n",
       "      <td>osr2jwljor</td>\n",
       "      <td>33.0</td>\n",
       "      <td>3</td>\n",
       "      <td>basic</td>\n",
       "      <td>other</td>\n",
       "      <td>0.000</td>\n",
       "      <td>US</td>\n",
       "      <td>9826675.0</td>\n",
       "      <td>eng</td>\n",
       "      <td>0.0</td>\n",
       "    </tr>\n",
       "    <tr>\n",
       "      <th>3</th>\n",
       "      <td>lsw9q7uk0j</td>\n",
       "      <td>46.0</td>\n",
       "      <td>1</td>\n",
       "      <td>basic</td>\n",
       "      <td>craigslist</td>\n",
       "      <td>0.000</td>\n",
       "      <td>US</td>\n",
       "      <td>9826675.0</td>\n",
       "      <td>eng</td>\n",
       "      <td>0.0</td>\n",
       "    </tr>\n",
       "    <tr>\n",
       "      <th>4</th>\n",
       "      <td>0d01nltbrs</td>\n",
       "      <td>47.0</td>\n",
       "      <td>1</td>\n",
       "      <td>basic</td>\n",
       "      <td>direct</td>\n",
       "      <td>0.000</td>\n",
       "      <td>US</td>\n",
       "      <td>9826675.0</td>\n",
       "      <td>eng</td>\n",
       "      <td>0.0</td>\n",
       "    </tr>\n",
       "    <tr>\n",
       "      <th>...</th>\n",
       "      <td>...</td>\n",
       "      <td>...</td>\n",
       "      <td>...</td>\n",
       "      <td>...</td>\n",
       "      <td>...</td>\n",
       "      <td>...</td>\n",
       "      <td>...</td>\n",
       "      <td>...</td>\n",
       "      <td>...</td>\n",
       "      <td>...</td>\n",
       "    </tr>\n",
       "    <tr>\n",
       "      <th>78809</th>\n",
       "      <td>egikxlfmh8</td>\n",
       "      <td>32.0</td>\n",
       "      <td>1</td>\n",
       "      <td>basic</td>\n",
       "      <td>google</td>\n",
       "      <td>15297.744</td>\n",
       "      <td>AU</td>\n",
       "      <td>7741220.0</td>\n",
       "      <td>eng</td>\n",
       "      <td>0.0</td>\n",
       "    </tr>\n",
       "    <tr>\n",
       "      <th>78810</th>\n",
       "      <td>oitccptcw6</td>\n",
       "      <td>48.0</td>\n",
       "      <td>0</td>\n",
       "      <td>basic</td>\n",
       "      <td>google</td>\n",
       "      <td>15297.744</td>\n",
       "      <td>AU</td>\n",
       "      <td>7741220.0</td>\n",
       "      <td>eng</td>\n",
       "      <td>0.0</td>\n",
       "    </tr>\n",
       "    <tr>\n",
       "      <th>78811</th>\n",
       "      <td>86s1bo34bg</td>\n",
       "      <td>40.0</td>\n",
       "      <td>1</td>\n",
       "      <td>facebook</td>\n",
       "      <td>google</td>\n",
       "      <td>15297.744</td>\n",
       "      <td>AU</td>\n",
       "      <td>7741220.0</td>\n",
       "      <td>eng</td>\n",
       "      <td>0.0</td>\n",
       "    </tr>\n",
       "    <tr>\n",
       "      <th>78812</th>\n",
       "      <td>ms2453k9vj</td>\n",
       "      <td>63.0</td>\n",
       "      <td>1</td>\n",
       "      <td>basic</td>\n",
       "      <td>google</td>\n",
       "      <td>15297.744</td>\n",
       "      <td>AU</td>\n",
       "      <td>7741220.0</td>\n",
       "      <td>eng</td>\n",
       "      <td>0.0</td>\n",
       "    </tr>\n",
       "    <tr>\n",
       "      <th>78813</th>\n",
       "      <td>c999p94qui</td>\n",
       "      <td>30.0</td>\n",
       "      <td>1</td>\n",
       "      <td>basic</td>\n",
       "      <td>direct</td>\n",
       "      <td>15297.744</td>\n",
       "      <td>AU</td>\n",
       "      <td>7741220.0</td>\n",
       "      <td>eng</td>\n",
       "      <td>0.0</td>\n",
       "    </tr>\n",
       "  </tbody>\n",
       "</table>\n",
       "<p>77648 rows × 10 columns</p>\n",
       "</div>"
      ],
      "text/plain": [
       "               id   age  gender signup_method affiliate_provider  distance_km  \\\n",
       "0      4ft3gnwmtx  56.0       1         basic             direct        0.000   \n",
       "1      87mebub9p4  41.0       3         basic             direct        0.000   \n",
       "2      osr2jwljor  33.0       3         basic              other        0.000   \n",
       "3      lsw9q7uk0j  46.0       1         basic         craigslist        0.000   \n",
       "4      0d01nltbrs  47.0       1         basic             direct        0.000   \n",
       "...           ...   ...     ...           ...                ...          ...   \n",
       "78809  egikxlfmh8  32.0       1         basic             google    15297.744   \n",
       "78810  oitccptcw6  48.0       0         basic             google    15297.744   \n",
       "78811  86s1bo34bg  40.0       1      facebook             google    15297.744   \n",
       "78812  ms2453k9vj  63.0       1         basic             google    15297.744   \n",
       "78813  c999p94qui  30.0       1         basic             direct    15297.744   \n",
       "\n",
       "      country_destination  destination_km2 destination_language   \\\n",
       "0                      US        9826675.0                   eng   \n",
       "1                      US        9826675.0                   eng   \n",
       "2                      US        9826675.0                   eng   \n",
       "3                      US        9826675.0                   eng   \n",
       "4                      US        9826675.0                   eng   \n",
       "...                   ...              ...                   ...   \n",
       "78809                  AU        7741220.0                   eng   \n",
       "78810                  AU        7741220.0                   eng   \n",
       "78811                  AU        7741220.0                   eng   \n",
       "78812                  AU        7741220.0                   eng   \n",
       "78813                  AU        7741220.0                   eng   \n",
       "\n",
       "       language_levenshtein_distance  \n",
       "0                                0.0  \n",
       "1                                0.0  \n",
       "2                                0.0  \n",
       "3                                0.0  \n",
       "4                                0.0  \n",
       "...                              ...  \n",
       "78809                            0.0  \n",
       "78810                            0.0  \n",
       "78811                            0.0  \n",
       "78812                            0.0  \n",
       "78813                            0.0  \n",
       "\n",
       "[77648 rows x 10 columns]"
      ]
     },
     "execution_count": 35,
     "metadata": {},
     "output_type": "execute_result"
    }
   ],
   "source": [
    "df_mf"
   ]
  },
  {
   "cell_type": "code",
   "execution_count": null,
   "metadata": {},
   "outputs": [],
   "source": []
  },
  {
   "cell_type": "code",
   "execution_count": 36,
   "metadata": {},
   "outputs": [],
   "source": [
    "df_mf['country_destination'] = df_mf['country_destination'].map(\n",
    "    {'AU': 0, 'CA': 0, 'DE': 0, 'ES': 0,\n",
    "     'FR': 0, 'GB': 0, 'IT': 0, 'NL': 0,\n",
    "    'PT': 0, 'US': 1})"
   ]
  },
  {
   "cell_type": "code",
   "execution_count": 37,
   "metadata": {},
   "outputs": [
    {
     "data": {
      "text/plain": [
       "(77648, 10)"
      ]
     },
     "execution_count": 37,
     "metadata": {},
     "output_type": "execute_result"
    }
   ],
   "source": [
    "df_mf.shape"
   ]
  },
  {
   "cell_type": "code",
   "execution_count": 38,
   "metadata": {},
   "outputs": [
    {
     "data": {
      "text/plain": [
       "1    61442\n",
       "0    16206\n",
       "Name: country_destination, dtype: int64"
      ]
     },
     "execution_count": 38,
     "metadata": {},
     "output_type": "execute_result"
    }
   ],
   "source": [
    "df_mf['country_destination'].value_counts()"
   ]
  },
  {
   "cell_type": "markdown",
   "metadata": {},
   "source": [
    "### dumify all non-numeric columns"
   ]
  },
  {
   "cell_type": "code",
   "execution_count": 39,
   "metadata": {},
   "outputs": [],
   "source": [
    "dummy_list = ['gender', 'signup_method', 'affiliate_provider', 'destination_language ']"
   ]
  },
  {
   "cell_type": "code",
   "execution_count": 40,
   "metadata": {},
   "outputs": [],
   "source": [
    "df_mfd = pd.get_dummies(df_mf, columns=dummy_list\n",
    "                        , drop_first = True)"
   ]
  },
  {
   "cell_type": "code",
   "execution_count": 41,
   "metadata": {},
   "outputs": [
    {
     "data": {
      "text/plain": [
       "(77648, 32)"
      ]
     },
     "execution_count": 41,
     "metadata": {},
     "output_type": "execute_result"
    }
   ],
   "source": [
    "df_mfd.shape"
   ]
  },
  {
   "cell_type": "markdown",
   "metadata": {},
   "source": [
    "## Part-4: Model-1 Logestic Regression"
   ]
  },
  {
   "cell_type": "code",
   "execution_count": 42,
   "metadata": {},
   "outputs": [
    {
     "name": "stdout",
     "output_type": "stream",
     "text": [
      "Cross val score: 0.9817638612192736\n",
      "Training score: 0.981763857407789\n",
      "Testing score: 0.9822790026787555\n"
     ]
    }
   ],
   "source": [
    "# Define features X and target y\n",
    "X = df_mfd.drop(columns=['country_destination', 'id'])\n",
    "y = df_mfd['country_destination']\n",
    "\n",
    "# Train test split our data\n",
    "X_train, X_test, y_train, y_test = train_test_split(X, y, random_state=42)\n",
    "\n",
    "# Instantiate and fit model\n",
    "logr = LogisticRegression(solver='liblinear')\n",
    "logr.fit(X_train, y_train)\n",
    "\n",
    "# Get our scores\n",
    "print('Cross val score:', cross_val_score(logr, X_train, y_train, cv=5).mean())\n",
    "print('Training score:', logr.score(X_train, y_train))\n",
    "print('Testing score:', logr.score(X_test, y_test))"
   ]
  },
  {
   "cell_type": "code",
   "execution_count": 43,
   "metadata": {},
   "outputs": [
    {
     "name": "stdout",
     "output_type": "stream",
     "text": [
      "accuray: 0.9818926437255306\n",
      "recall: 1.0\n",
      "precision: 0.9776285641547862\n"
     ]
    }
   ],
   "source": [
    "from sklearn.metrics import recall_score, precision_score\n",
    "\n",
    "preds = logr.predict(X)\n",
    "print('accuray:', logr.score(X, y))\n",
    "print('recall:', recall_score(y, preds))\n",
    "print('precision:', precision_score(y, preds))"
   ]
  },
  {
   "cell_type": "code",
   "execution_count": 44,
   "metadata": {},
   "outputs": [
    {
     "data": {
      "text/plain": [
       "1    0.790559\n",
       "0    0.209441\n",
       "Name: country_destination, dtype: float64"
      ]
     },
     "execution_count": 44,
     "metadata": {},
     "output_type": "execute_result"
    }
   ],
   "source": [
    "y_train.value_counts(normalize=True)"
   ]
  },
  {
   "cell_type": "code",
   "execution_count": 45,
   "metadata": {},
   "outputs": [
    {
     "data": {
      "text/plain": [
       "1    0.793478\n",
       "0    0.206522\n",
       "Name: country_destination, dtype: float64"
      ]
     },
     "execution_count": 45,
     "metadata": {},
     "output_type": "execute_result"
    }
   ],
   "source": [
    "y_test.value_counts(normalize=True)"
   ]
  },
  {
   "cell_type": "code",
   "execution_count": 46,
   "metadata": {},
   "outputs": [],
   "source": [
    "# creating new data frame\n",
    "\n",
    "y_preds_test = logr.predict(X_test)\n",
    "\n",
    "cm = confusion_matrix(y_test, y_preds_test)\n",
    "tn, fp, fn, tp = cm.ravel()\n",
    "\n",
    "df_pred = pd.DataFrame(cm, columns=['Predicted 0', 'Predicted 1'], index=['Actual 0', 'Actual 1'])"
   ]
  },
  {
   "cell_type": "code",
   "execution_count": 47,
   "metadata": {},
   "outputs": [
    {
     "data": {
      "text/html": [
       "<div>\n",
       "<style scoped>\n",
       "    .dataframe tbody tr th:only-of-type {\n",
       "        vertical-align: middle;\n",
       "    }\n",
       "\n",
       "    .dataframe tbody tr th {\n",
       "        vertical-align: top;\n",
       "    }\n",
       "\n",
       "    .dataframe thead th {\n",
       "        text-align: right;\n",
       "    }\n",
       "</style>\n",
       "<table border=\"1\" class=\"dataframe\">\n",
       "  <thead>\n",
       "    <tr style=\"text-align: right;\">\n",
       "      <th></th>\n",
       "      <th>Predicted 0</th>\n",
       "      <th>Predicted 1</th>\n",
       "    </tr>\n",
       "  </thead>\n",
       "  <tbody>\n",
       "    <tr>\n",
       "      <th>Actual 0</th>\n",
       "      <td>3665</td>\n",
       "      <td>344</td>\n",
       "    </tr>\n",
       "    <tr>\n",
       "      <th>Actual 1</th>\n",
       "      <td>0</td>\n",
       "      <td>15403</td>\n",
       "    </tr>\n",
       "  </tbody>\n",
       "</table>\n",
       "</div>"
      ],
      "text/plain": [
       "          Predicted 0  Predicted 1\n",
       "Actual 0         3665          344\n",
       "Actual 1            0        15403"
      ]
     },
     "execution_count": 47,
     "metadata": {},
     "output_type": "execute_result"
    }
   ],
   "source": [
    "df_pred"
   ]
  },
  {
   "cell_type": "markdown",
   "metadata": {},
   "source": [
    "As we can see there is little evidence of overfitting with a train test score of roughly .98/.98 and strong accuracy overall. This significantly beats the baseline accuracy of .79 and does well overall.\n",
    "If we could highlight one downfall it is that it has a number of false negatives (although no false positives in this case). So depending on preference for sensitivity v. specificity this would need to be considered.\n",
    "However, it is not as strong as the random forest model, demonstrated in model 2 below."
   ]
  },
  {
   "cell_type": "markdown",
   "metadata": {},
   "source": [
    "### Model-2 Random Forest"
   ]
  },
  {
   "cell_type": "code",
   "execution_count": 48,
   "metadata": {},
   "outputs": [],
   "source": [
    "from sklearn.ensemble import RandomForestClassifier"
   ]
  },
  {
   "cell_type": "code",
   "execution_count": 49,
   "metadata": {},
   "outputs": [],
   "source": [
    "from sklearn.preprocessing import StandardScaler"
   ]
  },
  {
   "cell_type": "code",
   "execution_count": 50,
   "metadata": {},
   "outputs": [],
   "source": [
    "# Define features X and target y\n",
    "X = df_mfd.drop(columns=['country_destination', 'id'])\n",
    "y = df_mfd['country_destination']"
   ]
  },
  {
   "cell_type": "code",
   "execution_count": 51,
   "metadata": {},
   "outputs": [],
   "source": [
    "# Train test split our data\n",
    "X_train, X_test, y_train, y_test = train_test_split(X, y, random_state=42)\n",
    "ss = StandardScaler()\n",
    "Z_train = ss.fit_transform(X_train)\n",
    "Z_test = ss.transform(X_test)"
   ]
  },
  {
   "cell_type": "code",
   "execution_count": 52,
   "metadata": {},
   "outputs": [
    {
     "data": {
      "text/plain": [
       "RandomForestClassifier()"
      ]
     },
     "execution_count": 52,
     "metadata": {},
     "output_type": "execute_result"
    }
   ],
   "source": [
    "# Instantiate and fit model\n",
    "rf = RandomForestClassifier()\n",
    "rf.fit(Z_train, y_train)"
   ]
  },
  {
   "cell_type": "code",
   "execution_count": 53,
   "metadata": {},
   "outputs": [
    {
     "name": "stdout",
     "output_type": "stream",
     "text": [
      "Cross val score: 1.0\n",
      "Training score: 1.0\n",
      "Testing score: 1.0\n",
      "accuracy: 0.20871110653204203\n",
      "recall: 0.0\n",
      "precision: 0.0\n"
     ]
    },
    {
     "name": "stderr",
     "output_type": "stream",
     "text": [
      "/Users/tahir/anaconda3/lib/python3.8/site-packages/sklearn/metrics/_classification.py:1221: UndefinedMetricWarning: Precision is ill-defined and being set to 0.0 due to no predicted samples. Use `zero_division` parameter to control this behavior.\n",
      "  _warn_prf(average, modifier, msg_start, len(result))\n"
     ]
    }
   ],
   "source": [
    "# Get our scores\n",
    "print('Cross val score:', cross_val_score(logr, Z_train, y_train, cv=5).mean())\n",
    "print('Training score:', rf.score(Z_train, y_train))\n",
    "print('Testing score:', rf.score(Z_test, y_test))\n",
    "from sklearn.metrics import recall_score, precision_score\n",
    "rf_preds = rf.predict(X)\n",
    "print('accuracy:', rf.score(X, y))\n",
    "print('recall:', recall_score(y, rf_preds))\n",
    "print('precision:', precision_score(y, rf_preds))\n",
    "y_train.value_counts(normalize=True)\n",
    "y_test.value_counts(normalize=True)\n",
    "from sklearn.metrics import confusion_matrix"
   ]
  },
  {
   "cell_type": "code",
   "execution_count": 54,
   "metadata": {},
   "outputs": [
    {
     "data": {
      "text/html": [
       "<div>\n",
       "<style scoped>\n",
       "    .dataframe tbody tr th:only-of-type {\n",
       "        vertical-align: middle;\n",
       "    }\n",
       "\n",
       "    .dataframe tbody tr th {\n",
       "        vertical-align: top;\n",
       "    }\n",
       "\n",
       "    .dataframe thead th {\n",
       "        text-align: right;\n",
       "    }\n",
       "</style>\n",
       "<table border=\"1\" class=\"dataframe\">\n",
       "  <thead>\n",
       "    <tr style=\"text-align: right;\">\n",
       "      <th></th>\n",
       "      <th>Predicted 0</th>\n",
       "      <th>Predicted 1</th>\n",
       "    </tr>\n",
       "  </thead>\n",
       "  <tbody>\n",
       "    <tr>\n",
       "      <th>Actual 0</th>\n",
       "      <td>4009</td>\n",
       "      <td>0</td>\n",
       "    </tr>\n",
       "    <tr>\n",
       "      <th>Actual 1</th>\n",
       "      <td>0</td>\n",
       "      <td>15403</td>\n",
       "    </tr>\n",
       "  </tbody>\n",
       "</table>\n",
       "</div>"
      ],
      "text/plain": [
       "          Predicted 0  Predicted 1\n",
       "Actual 0         4009            0\n",
       "Actual 1            0        15403"
      ]
     },
     "execution_count": 54,
     "metadata": {},
     "output_type": "execute_result"
    }
   ],
   "source": [
    "# creating new data frame\n",
    "rf_preds_test = rf.predict(Z_test)\n",
    "cm = confusion_matrix(y_test, rf_preds_test)\n",
    "tn, fp, fn, tp = cm.ravel()\n",
    "df_pred_2 = pd.DataFrame(cm, columns=['Predicted 0', 'Predicted 1'], index=['Actual 0', 'Actual 1'])\n",
    "df_pred_2"
   ]
  },
  {
   "cell_type": "markdown",
   "metadata": {},
   "source": [
    "As we can see there is again, little evidence of overfitting with a train test score of 1/1 aka perfect accuracy overall. This significantly beats the baseline accuracy of .79.\n",
    "Not a lot of downfalls of this model given the high accuracy. And given the fit and accuracy, this is selected as our production model."
   ]
  },
  {
   "cell_type": "markdown",
   "metadata": {},
   "source": [
    "## Summary and Conclusion"
   ]
  },
  {
   "cell_type": "markdown",
   "metadata": {},
   "source": [
    "Over the course of this project we have cleaned, performed eda and preprocessing and finally modeled on data from AirBnB with the intention to address the project statement: Can we correctly classify whether users are going abroad or staying in the US.\n",
    "\n",
    "In the end we chose our features given what we know about the travel industry and demographic choices for travel. Namely - age is likely to be a large factor in where people travel, and language can be a large barrier to going abroad (hence the inclusion of language and language difference (levenshtein distance) . Equally, given hassle, airline costs, jet lag etc. distance was likely to be a factor and in fact not a linear factor - hence the inclusion of the squared destination distance.\n",
    "\n",
    "In conclusion, the Random Forest model is undoubtedly the best model given the perfect accuracy on train/test and no overfitting. The random forest model appears to work so well here potentially because of it’s internal mechanism for aggregating decision tress from multiple bootstrapped samples in such a way that it decorrelates each model. This helps to control for variance which is one potential explanation for why we do not see much overfitting in the model. However, with random forest models, this decorrelative function usually comes at the cost of some bias so to see accuracy levels at 100% is perhaps a surprising, but welcome, result."
   ]
  },
  {
   "cell_type": "markdown",
   "metadata": {},
   "source": [
    "## Outlook"
   ]
  },
  {
   "cell_type": "markdown",
   "metadata": {},
   "source": [
    "With additional time we would look into further features, spend more time understanding and cleaning the session dataframe for inclusion atleast in EDA and perhaps include the NDF results as a classifier. This could allow us to make predictions as to why certain groups did not select a destination."
   ]
  },
  {
   "cell_type": "code",
   "execution_count": null,
   "metadata": {},
   "outputs": [],
   "source": []
  }
 ],
 "metadata": {
  "kernelspec": {
   "display_name": "Python 3",
   "language": "python",
   "name": "python3"
  },
  "language_info": {
   "codemirror_mode": {
    "name": "ipython",
    "version": 3
   },
   "file_extension": ".py",
   "mimetype": "text/x-python",
   "name": "python",
   "nbconvert_exporter": "python",
   "pygments_lexer": "ipython3",
   "version": "3.8.5"
  },
  "toc": {
   "base_numbering": 1,
   "nav_menu": {},
   "number_sections": false,
   "sideBar": true,
   "skip_h1_title": false,
   "title_cell": "Table of Contents",
   "title_sidebar": "Contents",
   "toc_cell": true,
   "toc_position": {
    "height": "calc(100% - 180px)",
    "left": "10px",
    "top": "150px",
    "width": "279px"
   },
   "toc_section_display": true,
   "toc_window_display": true
  }
 },
 "nbformat": 4,
 "nbformat_minor": 4
}
